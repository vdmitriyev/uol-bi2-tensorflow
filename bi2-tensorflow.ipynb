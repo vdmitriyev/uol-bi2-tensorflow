{
 "cells": [
  {
   "cell_type": "markdown",
   "metadata": {},
   "source": [
    "### Task\n",
    "\n",
    "Building a prototype that is able to recongnize symbols with means of deep learning / machine learning.\n"
   ]
  },
  {
   "cell_type": "markdown",
   "metadata": {},
   "source": [
    "### Tutorials\n",
    "\n",
    "\n",
    "* [Installing TensorFlow on Windows](https://www.tensorflow.org/install/install_windows) <- Use \"Installing with Anaconda\" without GPU\n",
    "* [TensorFlow Tutorial For Beginners](https://www.datacamp.com/community/tutorials/tensorflow-tutorial)\n",
    "* [TensorFlow Keras Guide](https://www.tensorflow.org/guide/keras)\n",
    "* [OpenCV Tutorial: A Guide to Learn OpenCV](https://www.pyimagesearch.com/2018/07/19/opencv-tutorial-a-guide-to-learn-opencv/)\n",
    "* [Captcha Solving Using TensorFlow](https://github.com/JackonYang/captcha-tensorflow)\n"
   ]
  },
  {
   "cell_type": "markdown",
   "metadata": {},
   "source": [
    "### Source Code\n",
    "\n",
    "* [pycaptcha](https://github.com/vdmitriyev/pycaptcha)\n",
    "* [symbols_extractor.py](https://github.com/vdmitriyev/data-analysis-notebooks/blob/master/bi2-tensorflow/symbols_extractor.py)"
   ]
  }
 ],
 "metadata": {
  "kernelspec": {
   "display_name": "Python 3",
   "language": "python",
   "name": "python3"
  },
  "language_info": {
   "codemirror_mode": {
    "name": "ipython",
    "version": 3
   },
   "file_extension": ".py",
   "mimetype": "text/x-python",
   "name": "python",
   "nbconvert_exporter": "python",
   "pygments_lexer": "ipython3",
   "version": "3.6.4"
  }
 },
 "nbformat": 4,
 "nbformat_minor": 2
}
